{
  "nbformat": 4,
  "nbformat_minor": 0,
  "metadata": {
    "kernelspec": {
      "display_name": "Python 3",
      "language": "python",
      "name": "python3"
    },
    "language_info": {
      "codemirror_mode": {
        "name": "ipython",
        "version": 3
      },
      "file_extension": ".py",
      "mimetype": "text/x-python",
      "name": "python",
      "nbconvert_exporter": "python",
      "pygments_lexer": "ipython3",
      "version": "3.7.6"
    },
    "colab": {
      "name": "LS_DS_224_assignment.ipynb",
      "provenance": []
    }
  },
  "cells": [
    {
      "cell_type": "markdown",
      "metadata": {
        "id": "OUeh9g-5HCgA",
        "colab_type": "text"
      },
      "source": [
        "Lambda School Data Science\n",
        "\n",
        "*Unit 2, Sprint 2, Module 4*\n",
        "\n",
        "---"
      ]
    },
    {
      "cell_type": "markdown",
      "metadata": {
        "colab_type": "text",
        "id": "nCc3XZEyG3XV"
      },
      "source": [
        "# Classification Metrics\n",
        "\n",
        "## Assignment\n",
        "- [x] If you haven't yet, [review requirements for your portfolio project](https://lambdaschool.github.io/ds/unit2), then submit your dataset.\n",
        "- [x] Plot a confusion matrix for your Tanzania Waterpumps model.\n",
        "- [x] Continue to participate in our Kaggle challenge. Every student should have made at least one submission that scores at least 70% accuracy (well above the majority class baseline).\n",
        "- [x] Submit your final predictions to our Kaggle competition. Optionally, go to **My Submissions**, and _\"you may select up to 1 submission to be used to count towards your final leaderboard score.\"_\n",
        "- [x] Commit your notebook to your fork of the GitHub repo.\n",
        "- [x] Read [Maximizing Scarce Maintenance Resources with Data: Applying predictive modeling, precision at k, and clustering to optimize impact](https://towardsdatascience.com/maximizing-scarce-maintenance-resources-with-data-8f3491133050), by Lambda DS3 student Michael Brady. His blog post extends the Tanzania Waterpumps scenario, far beyond what's in the lecture notebook.\n",
        "\n",
        "\n",
        "## Stretch Goals\n",
        "\n",
        "### Reading\n",
        "\n",
        "- [Attacking discrimination with smarter machine learning](https://research.google.com/bigpicture/attacking-discrimination-in-ml/), by Google Research, with  interactive visualizations. _\"A threshold classifier essentially makes a yes/no decision, putting things in one category or another. We look at how these classifiers work, ways they can potentially be unfair, and how you might turn an unfair classifier into a fairer one. As an illustrative example, we focus on loan granting scenarios where a bank may grant or deny a loan based on a single, automatically computed number such as a credit score.\"_\n",
        "- [Notebook about how to calculate expected value from a confusion matrix by treating it as a cost-benefit matrix](https://github.com/podopie/DAT18NYC/blob/master/classes/13-expected_value_cost_benefit_analysis.ipynb)\n",
        "- [Visualizing Machine Learning Thresholds to Make Better Business Decisions](https://blog.insightdatascience.com/visualizing-machine-learning-thresholds-to-make-better-business-decisions-4ab07f823415)\n",
        "\n",
        "\n",
        "### Doing\n",
        "- [ ] Share visualizations in our Slack channel!\n",
        "- [ ] RandomizedSearchCV / GridSearchCV, for model selection. (See module 3 assignment notebook)\n",
        "- [ ] Stacking Ensemble. (See module 3 assignment notebook)\n",
        "- [ ] More Categorical Encoding. (See module 2 assignment notebook)"
      ]
    },
    {
      "cell_type": "code",
      "metadata": {
        "colab_type": "code",
        "id": "lsbRiKBoB5RE",
        "colab": {}
      },
      "source": [
        "%%capture\n",
        "import sys\n",
        "\n",
        "# If you're on Colab:\n",
        "if 'google.colab' in sys.modules:\n",
        "    DATA_PATH = 'https://raw.githubusercontent.com/LambdaSchool/DS-Unit-2-Kaggle-Challenge/master/data/'\n",
        "    !pip install category_encoders==2.*\n",
        "\n",
        "# If you're working locally:\n",
        "else:\n",
        "    DATA_PATH = '../data/'"
      ],
      "execution_count": 0,
      "outputs": []
    },
    {
      "cell_type": "code",
      "metadata": {
        "colab_type": "code",
        "id": "BVA1lph8CcNX",
        "colab": {}
      },
      "source": [
        "import pandas as pd\n",
        "\n",
        "# Merge train_features.csv & train_labels.csv\n",
        "train = pd.merge(pd.read_csv(DATA_PATH+'waterpumps/train_features.csv'), \n",
        "                 pd.read_csv(DATA_PATH+'waterpumps/train_labels.csv'))\n",
        "\n",
        "# Read test_features.csv & sample_submission.csv\n",
        "test = pd.read_csv(DATA_PATH+'waterpumps/test_features.csv')\n",
        "sample_submission = pd.read_csv(DATA_PATH+'waterpumps/sample_submission.csv')"
      ],
      "execution_count": 0,
      "outputs": []
    },
    {
      "cell_type": "markdown",
      "metadata": {
        "id": "4BMfdlySHeHR",
        "colab_type": "text"
      },
      "source": [
        "## My model's data cleaning steps"
      ]
    },
    {
      "cell_type": "code",
      "metadata": {
        "id": "uhrcR4x5HCgO",
        "colab_type": "code",
        "colab": {}
      },
      "source": [
        "import numpy as np\n",
        "def Data_cleaning(X):\n",
        " \n",
        "    # make a copy of the data\n",
        "    X = X.copy()\n",
        "    # get rid of outliers  \n",
        "    X['latitude'] = X['latitude'].replace(-2e-08, 0)\n",
        "    \n",
        "    # When columns have zeros and shouldn't, they are like null values.\n",
        "    # So we will replace the zeros with nulls, and impute missing values later.\n",
        "    \n",
        "    cols_with_zeros = ['longitude', 'latitude','population','construction_year']\n",
        "    for col in cols_with_zeros:\n",
        "        X[col] = X[col].replace(0, np.nan)\n",
        "\n",
        "  # add try catch to ignore rerun of cell \n",
        "    try:        \n",
        "        # drop redundant column\n",
        "        X = X.drop(columns='quantity_group')\n",
        "        X=X.drop('recorded_by',axis=1)\n",
        "    \n",
        "        # change 'unkown' to nan\n",
        "        X['source_class']=X['source_class'].replace(\"unknown\",np.NaN)\n",
        "\n",
        "    # not a dup but not usefull %0 variance\n",
        "    except:\n",
        "        print(\"Cell is rerun\")\n",
        "\n",
        "    # define a list of columns to iterate through\n",
        "    # originially this was an argument for the function but i moved it inside\n",
        "    column=['funder','installer','region','scheme_name']\n",
        "    # if a list is passed then make changes for all elements in that list of column names\n",
        "    if isinstance(column,list):\n",
        "        for ele in column:\n",
        "            top10=X[ele].value_counts()[:25].index\n",
        "            X.loc[~X[ele].isin(top10), ele] = 'other'\n",
        "    # if one name is passed then just change that one column\n",
        "    else:\n",
        "        top10=X[column].value_counts()[:25].index\n",
        "        X.loc[~X[column].isin(top10), column] = 'other'\n",
        "  \n",
        "    # convert date to time series then drop time series\n",
        "    X['date_recorded'] = pd.to_datetime(X['date_recorded'], infer_datetime_format=True)\n",
        "    \n",
        "    # Extract components from date_recorded, then drop the original column\n",
        "    X['year'] = X['date_recorded'].dt.year\n",
        "    X['month'] = X['date_recorded'].dt.month\n",
        "    X['day'] = X['date_recorded'].dt.day\n",
        "    try:\n",
        "        X = X.drop(columns='date_recorded')\n",
        "    except:\n",
        "        print('cell rerun')\n",
        "    \n",
        "    # Engineer feature: how old is the waterpump\n",
        "    X['age'] = X['year'] - X['construction_year']\n",
        "    X['age_missing'] = X['age'].isnull()\n",
        "    return X\n",
        "train=Data_cleaning(train)\n",
        "test=Data_cleaning(test)"
      ],
      "execution_count": 0,
      "outputs": []
    },
    {
      "cell_type": "code",
      "metadata": {
        "id": "ON_m-zz2YcRM",
        "colab_type": "code",
        "colab": {
          "base_uri": "https://localhost:8080/",
          "height": 391
        },
        "outputId": "49088acc-518e-40a0-fb07-4b9e6a124456"
      },
      "source": [
        "train.region.value_counts()"
      ],
      "execution_count": 64,
      "outputs": [
        {
          "output_type": "execute_result",
          "data": {
            "text/plain": [
              "Iringa           5294\n",
              "Shinyanga        4982\n",
              "Mbeya            4639\n",
              "Kilimanjaro      4379\n",
              "Morogoro         4006\n",
              "Arusha           3350\n",
              "Kagera           3316\n",
              "Mwanza           3102\n",
              "Kigoma           2816\n",
              "Ruvuma           2640\n",
              "Pwani            2635\n",
              "Tanga            2547\n",
              "Dodoma           2201\n",
              "Singida          2093\n",
              "Mara             1969\n",
              "Tabora           1959\n",
              "Rukwa            1808\n",
              "Mtwara           1730\n",
              "Manyara          1583\n",
              "Lindi            1546\n",
              "Dar es Salaam     805\n",
              "Name: region, dtype: int64"
            ]
          },
          "metadata": {
            "tags": []
          },
          "execution_count": 64
        }
      ]
    },
    {
      "cell_type": "code",
      "metadata": {
        "id": "JQuph4EuIyVc",
        "colab_type": "code",
        "colab": {}
      },
      "source": [
        "from sklearn.model_selection import train_test_split"
      ],
      "execution_count": 0,
      "outputs": []
    },
    {
      "cell_type": "code",
      "metadata": {
        "id": "4agwdD8kIE4A",
        "colab_type": "code",
        "colab": {
          "base_uri": "https://localhost:8080/",
          "height": 68
        },
        "outputId": "85b88a8e-4ce5-45d3-da5d-a63184530c1d"
      },
      "source": [
        "# select target and features for prediction\n",
        "target = 'status_group'\n",
        "ignore=['date_recorded','id',target]\n",
        "cat_features=[x for x in train.describe(exclude='number').columns.to_list() if x not in ignore]\n",
        "num_features=[x for x in train.describe(include='number').columns.to_list() if x not in ignore]\n",
        "\n",
        "# Get a series with the cardinality of the nonnumeric features\n",
        "cardinality = train[cat_features].select_dtypes(exclude='number').nunique()\n",
        "# Get a list of all categorical features with cardinality <= 50\n",
        "#cat_features = cardinality[cardinality <= 50].index.tolist()\n",
        "cat_features = cardinality[cardinality <= 100].index.tolist()\n",
        "\n",
        "# set features and target\n",
        "target = 'status_group'\n",
        "features = cat_features + num_features\n",
        "\n",
        "train,val=train_test_split(train)\n",
        "\n",
        "# make feature sets and labels\n",
        "X_train=train[features]\n",
        "X_val=val[features]\n",
        "\n",
        "y_train=train[target]\n",
        "y_val=val[target]\n",
        "\n",
        "# make test feature set\n",
        "X_test=test[features]\n",
        "\n",
        "print(f\"train shape:{train.shape}\\n\\\n",
        "validation shape:{val.shape}\\n\\\n",
        "testing shape:{test.shape}\")"
      ],
      "execution_count": 65,
      "outputs": [
        {
          "output_type": "stream",
          "text": [
            "train shape:(44550, 43)\n",
            "validation shape:(14850, 43)\n",
            "testing shape:(14358, 42)\n"
          ],
          "name": "stdout"
        }
      ]
    },
    {
      "cell_type": "code",
      "metadata": {
        "id": "zQcj3sJOI9XQ",
        "colab_type": "code",
        "colab": {}
      },
      "source": [
        "# import preprocessing stuff\n",
        "from sklearn.pipeline import make_pipeline\n",
        "from category_encoders import OneHotEncoder,OrdinalEncoder\n",
        "from sklearn.preprocessing import StandardScaler,MinMaxScaler\n",
        "\n",
        "# imputer\n",
        "from sklearn.impute import SimpleImputer\n",
        "\n",
        "from xgboost import XGBClassifier\n",
        "from sklearn.ensemble import RandomForestClassifier\n",
        "\n",
        "# import test metrics\n",
        "from sklearn.metrics import accuracy_score,confusion_matrix\n"
      ],
      "execution_count": 0,
      "outputs": []
    },
    {
      "cell_type": "code",
      "metadata": {
        "id": "8DLbtp9zIwrH",
        "colab_type": "code",
        "colab": {}
      },
      "source": [
        "model=XGBClassifier(objective = 'multi:softmax', booster = 'gbtree', nrounds = 'min.error.idx', \n",
        "                      num_class = 3, maximize = False, eval_metric = 'merror', eta = .1,\n",
        "                      max_depth = 14, colsample_bytree = .4)"
      ],
      "execution_count": 0,
      "outputs": []
    },
    {
      "cell_type": "code",
      "metadata": {
        "id": "qXTMj6CyI8fN",
        "colab_type": "code",
        "colab": {}
      },
      "source": [
        "model_pipe=make_pipeline(\n",
        "                        OneHotEncoder(use_cat_names=True),\n",
        "                        SimpleImputer(),\n",
        "                        StandardScaler(),\n",
        "                        model\n",
        "                        )"
      ],
      "execution_count": 0,
      "outputs": []
    },
    {
      "cell_type": "code",
      "metadata": {
        "id": "n-Arh5PHJ0Qi",
        "colab_type": "code",
        "colab": {
          "base_uri": "https://localhost:8080/",
          "height": 68
        },
        "outputId": "2a4c4f62-809b-4b97-b823-86b4049c8505"
      },
      "source": [
        "model_pipe.fit(X_train,y_train)\n",
        "y_pred=model_pipe.predict(X_train)\n",
        "print(f\"RandomForest_pipe:\\n\\tTRAIN ACCURACY:{accuracy_score(y_pred=y_pred,y_true=y_train)}\")\n",
        "y_pred=model_pipe.predict(X_val)\n",
        "print(f\"\\tVALIDATION ACCURACY:{accuracy_score(y_pred=y_pred,y_true=y_val)}\")"
      ],
      "execution_count": 29,
      "outputs": [
        {
          "output_type": "stream",
          "text": [
            "RandomForest_pipe:\n",
            "\tTRAIN ACCURACY:0.937283950617284\n",
            "\tVALIDATION ACCURACY:0.814006734006734\n"
          ],
          "name": "stdout"
        }
      ]
    },
    {
      "cell_type": "markdown",
      "metadata": {
        "id": "5kCIGUeCKs-t",
        "colab_type": "text"
      },
      "source": [
        "## confusion matrix"
      ]
    },
    {
      "cell_type": "code",
      "metadata": {
        "id": "tysIeRe0J1Vb",
        "colab_type": "code",
        "colab": {
          "base_uri": "https://localhost:8080/",
          "height": 385
        },
        "outputId": "206083bb-eca1-43da-a5d5-17cc92b623b3"
      },
      "source": [
        "from sklearn.metrics import plot_confusion_matrix\n",
        "cm=plot_confusion_matrix(model_pipe,X_val,y_val,values_format='.0f',xticks_rotation='vertical')\n",
        "cm;"
      ],
      "execution_count": 31,
      "outputs": [
        {
          "output_type": "display_data",
          "data": {
            "image/png": "[encoded data removed]",
            "text/plain": [
              "<Figure size 432x288 with 2 Axes>"
            ]
          },
          "metadata": {
            "tags": []
          }
        }
      ]
    },
    {
      "cell_type": "code",
      "metadata": {
        "id": "VPZzfRGsKeUD",
        "colab_type": "code",
        "colab": {
          "base_uri": "https://localhost:8080/",
          "height": 68
        },
        "outputId": "e53ba7e0-9908-4c4b-9b66-c36c65970045"
      },
      "source": [
        "from sklearn.metrics import confusion_matrix\n",
        "confusion_matrix(y_true=y_val,y_pred=y_pred)"
      ],
      "execution_count": 32,
      "outputs": [
        {
          "output_type": "execute_result",
          "data": {
            "text/plain": [
              "array([[7393,  169,  602],\n",
              "       [ 579,  315,  159],\n",
              "       [1201,   52, 4380]])"
            ]
          },
          "metadata": {
            "tags": []
          },
          "execution_count": 32
        }
      ]
    },
    {
      "cell_type": "code",
      "metadata": {
        "id": "Q8BmpVeCM9a1",
        "colab_type": "code",
        "colab": {}
      },
      "source": [
        ""
      ],
      "execution_count": 0,
      "outputs": []
    }
  ]
}