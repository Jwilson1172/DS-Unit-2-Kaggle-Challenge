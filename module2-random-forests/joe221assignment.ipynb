{
 "cells": [
  {
   "cell_type": "markdown",
   "metadata": {},
   "source": [
    "## Unit 2 Sprint 2\n",
    "### kaggle challenge notebook"
   ]
  },
  {
   "cell_type": "markdown",
   "metadata": {
    "colab_type": "text",
    "id": "20bExuNb9-Fl"
   },
   "source": [
    "## EDA"
   ]
  },
  {
   "cell_type": "code",
   "execution_count": 1,
   "metadata": {
    "colab": {},
    "colab_type": "code",
    "id": "nAu0TYYk8ZbN"
   },
   "outputs": [],
   "source": [
    "# for cheking the installed modules\n",
    "import sys\n",
    "# part of the trio\n",
    "import numpy as np\n",
    "import pandas as pd\n",
    "# for CV\n",
    "from sklearn.model_selection import train_test_split\n",
    "\n",
    "# pandas profiling broken on local env\n",
    "# import pandas_profiling\n",
    "# from pandas_profiling import ProfileReport\n"
   ]
  },
  {
   "cell_type": "code",
   "execution_count": 4,
   "metadata": {
    "colab": {},
    "colab_type": "code",
    "id": "o9eSnDYhUGD7"
   },
   "outputs": [],
   "source": [
    "# If you're on Colab:\n",
    "if 'google.colab' in sys.modules:\n",
    "    DATA_PATH = 'https://raw.githubusercontent.com/LambdaSchool/DS-Unit-2-Kaggle-Challenge/master/data/'\n",
    "    !pip install category_encoders==2.*\n",
    "    !pip install pandas-profiling==2.*\n",
    "\n",
    "# If you're working locally:\n",
    "else:\n",
    "    DATA_PATH = '../data/waterpumps/'"
   ]
  },
  {
   "cell_type": "code",
   "execution_count": 5,
   "metadata": {
    "colab": {
     "base_uri": "https://localhost:8080/",
     "height": 34
    },
    "colab_type": "code",
    "id": "QJBD4ruICm1m",
    "outputId": "545c704e-4e92-4da9-86ec-af8dff97b60a"
   },
   "outputs": [
    {
     "data": {
      "text/plain": [
       "((59400, 41), (14358, 40))"
      ]
     },
     "execution_count": 5,
     "metadata": {},
     "output_type": "execute_result"
    }
   ],
   "source": [
    "train = pd.merge(pd.read_csv(DATA_PATH+'train_features.csv'), \n",
    "                 pd.read_csv(DATA_PATH+'train_labels.csv'))\n",
    "test = pd.read_csv(DATA_PATH+'test_features.csv') \n",
    "sample_submission = pd.read_csv(DATA_PATH+'sample_submission.csv')\n",
    "\n",
    "train.shape, test.shape"
   ]
  },
  {
   "cell_type": "markdown",
   "metadata": {
    "colab_type": "text",
    "id": "Ewm2B2rb-VHr"
   },
   "source": [
    "## Data Cleaning"
   ]
  },
  {
   "cell_type": "code",
   "execution_count": 6,
   "metadata": {
    "colab": {},
    "colab_type": "code",
    "id": "pv60ULQmn8x4"
   },
   "outputs": [],
   "source": [
    "def Data_cleaning(X):\n",
    " \n",
    "  # make a copy of the data\n",
    "  X = X.copy()\n",
    "  # get rid of outliers  \n",
    "  X['latitude'] = X['latitude'].replace(-2e-08, 0)\n",
    "    \n",
    "  # When columns have zeros and shouldn't, they are like null values.\n",
    "  # So we will replace the zeros with nulls, and impute missing values later.\n",
    "    \n",
    "  cols_with_zeros = ['longitude', 'latitude','population','construction_year']\n",
    "  for col in cols_with_zeros:\n",
    "    X[col] = X[col].replace(0, np.nan)\n",
    "\n",
    "  # add try catch to ignore rerun of cell \n",
    "  try:        \n",
    "    # drop redundant column\n",
    "    X = X.drop(columns='quantity_group')\n",
    "    X=X.drop('recorded_by',axis=1)\n",
    "\n",
    "    # change 'unkown' to nan\n",
    "    X['source_class']=X['source_class'].replace(\"unknown\",np.NaN)\n",
    "\n",
    "    # not a dup but not usefull %0 variance\n",
    "  except:\n",
    "    print(\"Cell is rerun\")\n",
    "\n",
    "  # define a list of columns to iterate through\n",
    "  # originially this was an argument for the function but i moved it inside\n",
    "  column=['funder','installer','region','scheme_name']\n",
    "  # if a list is passed then make changes for all elements in that list of column names\n",
    "  if isinstance(column,list):\n",
    "    for ele in column:\n",
    "      top10=X[ele].value_counts()[:10].index\n",
    "      X.loc[~X[ele].isin(top10), ele] = 'other'\n",
    "  # if one name is passed then just change that one column\n",
    "  else:\n",
    "    top10=X[column].value_counts()[:10].index\n",
    "    X.loc[~X[column].isin(top10), column] = 'other'\n",
    "  return X\n"
   ]
  },
  {
   "cell_type": "code",
   "execution_count": 7,
   "metadata": {
    "colab": {},
    "colab_type": "code",
    "id": "4fMYxkDSoItu"
   },
   "outputs": [],
   "source": [
    "train=Data_cleaning(train)\n",
    "test=Data_cleaning(test)"
   ]
  },
  {
   "cell_type": "code",
   "execution_count": 13,
   "metadata": {
    "colab": {
     "base_uri": "https://localhost:8080/",
     "height": 34
    },
    "colab_type": "code",
    "id": "ZGvB2Sq0vVqH",
    "outputId": "442f10af-e573-408a-deaa-2a93fcb464cb"
   },
   "outputs": [
    {
     "name": "stdout",
     "output_type": "stream",
     "text": [
      "train shape:(14095, 39)\n",
      "validation shape:(4699, 39)\n",
      "testing shape:(14358, 38)\n"
     ]
    }
   ],
   "source": [
    "target = 'status_group'\n",
    "ignore=['date_recorded','id',target]\n",
    "cat_features=[x for x in train.describe(exclude='number').columns.to_list() if x not in ignore]\n",
    "num_features=[x for x in train.describe(include='number').columns.to_list() if x not in ignore]\n",
    "\n",
    "# Get a series with the cardinality of the nonnumeric features\n",
    "cardinality = train[cat_features].select_dtypes(exclude='number').nunique()\n",
    "# Get a list of all categorical features with cardinality <= 50\n",
    "cat_features = cardinality[cardinality <= 50].index.tolist()\n",
    "\n",
    "# set features and target\n",
    "target = 'status_group'\n",
    "features = cat_features + num_features\n",
    "\n",
    "train,val=train_test_split(train)\n",
    "\n",
    "# make feature sets and labels\n",
    "X_train=train[features]\n",
    "X_val=val[features]\n",
    "\n",
    "y_train=train[target]\n",
    "y_val=val[target]\n",
    "\n",
    "# make test feature set\n",
    "X_test=test[features]\n",
    "\n",
    "print(f\"train shape:{train.shape}\\n\\\n",
    "validation shape:{val.shape}\\n\\\n",
    "testing shape:{test.shape}\")"
   ]
  },
  {
   "cell_type": "markdown",
   "metadata": {
    "colab_type": "text",
    "id": "35sHz4IB4hlS"
   },
   "source": [
    "## set up a pipeline to get a baseline model"
   ]
  },
  {
   "cell_type": "markdown",
   "metadata": {
    "colab_type": "text",
    "id": "LjSn2RBE9GFj"
   },
   "source": [
    "# A Mess **todo**:clean"
   ]
  },
  {
   "cell_type": "code",
   "execution_count": 70,
   "metadata": {
    "colab": {},
    "colab_type": "code",
    "id": "yLdfWIR1-Gkw"
   },
   "outputs": [
    {
     "name": "stdout",
     "output_type": "stream",
     "text": [
      "['onehotencoder', 'simpleimputer', 'standardscaler', 'xgbclassifier']\n"
     ]
    }
   ],
   "source": [
    "# import preprocessing stuff\n",
    "from sklearn.pipeline import make_pipeline\n",
    "from category_encoders import OneHotEncoder,CatBoostEncoder\n",
    "from sklearn.preprocessing import StandardScaler,MinMaxScaler\n",
    "\n",
    "# imputer\n",
    "from sklearn.impute import SimpleImputer\n",
    "\n",
    "# import a bunch of models that i want to test\n",
    "from sklearn.linear_model import LogisticRegression,SGDClassifier \n",
    "from xgboost import XGBClassifier\n",
    "from catboost import CatBoostClassifier\n",
    "from sklearn.ensemble import RandomForestClassifier\n",
    "\n",
    "# import test metrics\n",
    "from sklearn.metrics import accuracy_score,confusion_matrix\n",
    "\n",
    "\n",
    "pipeline = make_pipeline(\n",
    "    OneHotEncoder(use_cat_names=True),\n",
    "    SimpleImputer(strategy='most_frequent'),\n",
    "    StandardScaler(),  \n",
    "    XGBClassifier(objective='multi:softmax',booster='gbtree',nrounds='min.error.idx',num_class=3,eval_metric='merror'))\n",
    "print([str(x) for x in pipeline.named_steps])\n"
   ]
  },
  {
   "cell_type": "code",
   "execution_count": 71,
   "metadata": {},
   "outputs": [
    {
     "name": "stdout",
     "output_type": "stream",
     "text": [
      "Fitting 5 folds for each of 20 candidates, totalling 100 fits\n"
     ]
    },
    {
     "name": "stderr",
     "output_type": "stream",
     "text": [
      "[Parallel(n_jobs=-1)]: Using backend LokyBackend with 8 concurrent workers.\n",
      "[Parallel(n_jobs=-1)]: Done   2 tasks      | elapsed:  2.1min\n",
      "[Parallel(n_jobs=-1)]: Done   9 tasks      | elapsed:  3.2min\n",
      "[Parallel(n_jobs=-1)]: Done  16 tasks      | elapsed:  4.0min\n",
      "[Parallel(n_jobs=-1)]: Done  25 tasks      | elapsed:  5.4min\n",
      "[Parallel(n_jobs=-1)]: Done  34 tasks      | elapsed:  6.7min\n",
      "[Parallel(n_jobs=-1)]: Done  45 tasks      | elapsed:  9.0min\n",
      "[Parallel(n_jobs=-1)]: Done  56 tasks      | elapsed: 10.9min\n",
      "[Parallel(n_jobs=-1)]: Done  69 tasks      | elapsed: 12.9min\n",
      "[Parallel(n_jobs=-1)]: Done  82 tasks      | elapsed: 15.9min\n",
      "[Parallel(n_jobs=-1)]: Done  96 out of 100 | elapsed: 17.9min remaining:   44.8s\n",
      "[Parallel(n_jobs=-1)]: Done 100 out of 100 | elapsed: 18.2min finished\n"
     ]
    }
   ],
   "source": [
    "from sklearn.model_selection import RandomizedSearchCV\n",
    "\n",
    "param_distributions = {\n",
    "    #'xgbclassifier__objective': 'multi:softmax', \n",
    "    #'xgbclassifier__booster':'gbtree', \n",
    "    #'xgbclassifier__nrounds':'min.error.idx',\n",
    "    #'xgbclassifier__num_class': 3,\n",
    "    'xgbclassifier__maximize':[False,True],\n",
    "    #'xgbclassifier__eval_metric':'merror',\n",
    "    'xgbclassifier__eta':[0.1,0.2,0.5,0.8,1],\n",
    "    'xgbclassifier__max_depth': [10,15,20,25],\n",
    "    'xgbclassifier__colsample_bytree':[0.2,0.4,0.6]\n",
    "}\n",
    "\n",
    "# If you're on Colab, decrease n_iter & cv parameters\n",
    "search = RandomizedSearchCV(\n",
    "    pipeline, \n",
    "    param_distributions=param_distributions, \n",
    "    n_iter=20, \n",
    "    cv=5, \n",
    "    scoring='accuracy', \n",
    "    verbose=10, \n",
    "    return_train_score=True, \n",
    "    n_jobs=-1\n",
    ")\n",
    "\n",
    "search.fit(X_train, y_train);"
   ]
  },
  {
   "cell_type": "code",
   "execution_count": 72,
   "metadata": {},
   "outputs": [
    {
     "name": "stdout",
     "output_type": "stream",
     "text": [
      "0.7860234125576445\n",
      "{'xgbclassifier__maximize': False, 'xgbclassifier__max_depth': 15, 'xgbclassifier__eta': 0.8, 'xgbclassifier__colsample_bytree': 0.4}\n",
      "RandomForest_pipe:\n",
      "\tTRAIN ACCURACY:0.9753813409010287\n",
      "\tVALIDATION ACCURACY:0.7882528197488827\n"
     ]
    }
   ],
   "source": [
    "print(search.best_score_)\n",
    "print(search.best_params_)\n",
    "y_pred=search.predict(X_train)\n",
    "print(f\"RandomForest_pipe:\\n\\tTRAIN ACCURACY:{accuracy_score(y_pred=y_pred,y_true=y_train)}\")\n",
    "y_pred=search.predict(X_val)\n",
    "print(f\"\\tVALIDATION ACCURACY:{accuracy_score(y_pred=y_pred,y_true=y_val)}\")"
   ]
  },
  {
   "cell_type": "code",
   "execution_count": 19,
   "metadata": {},
   "outputs": [],
   "source": [
    "#model=RandomForestClassifier(bootstrap=False, ccp_alpha=0.0, class_weight=None,\n",
    "#                       criterion='entropy', max_depth=None,\n",
    "#                       max_features=0.4, max_leaf_nodes=None,\n",
    "#                       max_samples=None, min_impurity_decrease=0.0,\n",
    "#                       min_impurity_split=None, min_samples_leaf=6,\n",
    "#                       min_samples_split=2, min_weight_fraction_leaf=0.0,\n",
    "#                       n_estimators=1000, n_jobs=-1, oob_score=False,\n",
    "#                       random_state=42, verbose=False, warm_start=False)"
   ]
  },
  {
   "cell_type": "code",
   "execution_count": 20,
   "metadata": {},
   "outputs": [],
   "source": [
    "#model_pipe=make_pipeline(OneHotEncoder(use_cat_names=True),\n",
    "#                      SimpleImputer(strategy='most_frequent'),\n",
    "#                      StandardScaler(),\n",
    "#                      model)\n",
    "#"
   ]
  },
  {
   "cell_type": "code",
   "execution_count": 21,
   "metadata": {},
   "outputs": [
    {
     "name": "stdout",
     "output_type": "stream",
     "text": [
      "RandomForest_pipe:\n",
      "\tTRAIN ACCURACY:0.9052146151117417\n",
      "\tVALIDATION ACCURACY:0.7788891253458182\n"
     ]
    },
    {
     "ename": "TypeError",
     "evalue": "confusion_matrix() missing 2 required positional arguments: 'y_true' and 'y_pred'",
     "output_type": "error",
     "traceback": [
      "\u001b[0;31m---------------------------------------------------------------------------\u001b[0m",
      "\u001b[0;31mTypeError\u001b[0m                                 Traceback (most recent call last)",
      "\u001b[0;32m<ipython-input-21-c32b57b66b80>\u001b[0m in \u001b[0;36m<module>\u001b[0;34m\u001b[0m\n\u001b[1;32m     13\u001b[0m \u001b[0my_pred\u001b[0m\u001b[0;34m=\u001b[0m\u001b[0mmodel_pipe\u001b[0m\u001b[0;34m.\u001b[0m\u001b[0mpredict\u001b[0m\u001b[0;34m(\u001b[0m\u001b[0mX_val\u001b[0m\u001b[0;34m)\u001b[0m\u001b[0;34m\u001b[0m\u001b[0;34m\u001b[0m\u001b[0m\n\u001b[1;32m     14\u001b[0m \u001b[0mprint\u001b[0m\u001b[0;34m(\u001b[0m\u001b[0;34mf\"\\tVALIDATION ACCURACY:{accuracy_score(y_pred=y_pred,y_true=y_val)}\"\u001b[0m\u001b[0;34m)\u001b[0m\u001b[0;34m\u001b[0m\u001b[0;34m\u001b[0m\u001b[0m\n\u001b[0;32m---> 15\u001b[0;31m \u001b[0mprint\u001b[0m\u001b[0;34m(\u001b[0m\u001b[0;34mf\"Confusion matrix:\\n\"\u001b[0m\u001b[0;34m,\u001b[0m\u001b[0mconfusion_matrix\u001b[0m\u001b[0;34m(\u001b[0m\u001b[0;34m)\u001b[0m\u001b[0;34m)\u001b[0m\u001b[0;34m\u001b[0m\u001b[0;34m\u001b[0m\u001b[0m\n\u001b[0m",
      "\u001b[0;31mTypeError\u001b[0m: confusion_matrix() missing 2 required positional arguments: 'y_true' and 'y_pred'"
     ]
    }
   ],
   "source": [
    "# hyperopt suggested model\n",
    "#RandomForestClassifier(bootstrap=False, ccp_alpha=0.0, class_weight=None,\n",
    "#                       criterion='entropy', max_depth=None,\n",
    "#                       max_features=0.43626285313652846, max_leaf_nodes=None,\n",
    "#                       max_samples=None, min_impurity_decrease=0.0,\n",
    "#                       min_impurity_split=None, min_samples_leaf=1,\n",
    "#                       min_samples_split=2, min_weight_fraction_leaf=0.0,\n",
    "#                       n_estimators=11, n_jobs=1, oob_score=False,\n",
    "#                       random_state=0, verbose=False, warm_start=False)\n",
    "model_pipe.fit(X_train,y_train)\n",
    "y_pred=model_pipe.predict(X_train)\n",
    "print(f\"RandomForest_pipe:\\n\\tTRAIN ACCURACY:{accuracy_score(y_pred=y_pred,y_true=y_train)}\")\n",
    "y_pred=model_pipe.predict(X_val)\n",
    "print(f\"\\tVALIDATION ACCURACY:{accuracy_score(y_pred=y_pred,y_true=y_val)}\")"
   ]
  },
  {
   "cell_type": "code",
   "execution_count": 27,
   "metadata": {},
   "outputs": [
    {
     "data": {
      "text/plain": [
       "functional                 2494\n",
       "non functional             1881\n",
       "functional needs repair     324\n",
       "Name: status_group, dtype: int64"
      ]
     },
     "execution_count": 27,
     "metadata": {},
     "output_type": "execute_result"
    }
   ],
   "source": [
    "val[target].value_counts()"
   ]
  },
  {
   "cell_type": "code",
   "execution_count": 25,
   "metadata": {},
   "outputs": [
    {
     "name": "stdout",
     "output_type": "stream",
     "text": [
      "[[2233   54  207]\n",
      " [ 188   87   49]\n",
      " [ 508   33 1340]]\n"
     ]
    },
    {
     "data": {
      "image/png": "[encoded data removed]",
      "text/plain": [
       "<Figure size 432x288 with 2 Axes>"
      ]
     },
     "metadata": {
      "needs_background": "light"
     },
     "output_type": "display_data"
    }
   ],
   "source": [
    "import matplotlib.pyplot as plt\n",
    "labels = ['functional', 'broken','non-funtional']\n",
    "cm = confusion_matrix(y_val, y_pred)\n",
    "print(cm)\n",
    "fig = plt.figure()\n",
    "ax = fig.add_subplot(111)\n",
    "cax = ax.matshow(cm)\n",
    "plt.title('Confusion matrix of the classifier')\n",
    "fig.colorbar(cax)\n",
    "ax.set_xticklabels([''] + labels)\n",
    "ax.set_yticklabels([''] + labels)\n",
    "plt.xlabel('Predicted')\n",
    "plt.ylabel('True')\n",
    "plt.show()"
   ]
  },
  {
   "cell_type": "markdown",
   "metadata": {},
   "source": [
    "## results from diffrent models, baseline was a logistic regression"
   ]
  },
  {
   "cell_type": "code",
   "execution_count": 21,
   "metadata": {
    "colab": {
     "base_uri": "https://localhost:8080/",
     "height": 68
    },
    "colab_type": "code",
    "id": "Gtx-aoFhzJs4",
    "outputId": "6372708c-229e-4a07-df0d-4bc000475a91"
   },
   "outputs": [
    {
     "name": "stdout",
     "output_type": "stream",
     "text": [
      "BASELINE:\n",
      "\tTRAIN ACCURACY:0.7414622414622415\n",
      "\tVALIDATION ACCURACY:0.7425845759179093\n"
     ]
    }
   ],
   "source": [
    "y_pred=pipe.predict(X_train)\n",
    "print(f\"BASELINE:\\n\\tTRAIN ACCURACY:{accuracy_score(y_pred=y_pred,y_true=y_train)}\")\n",
    "y_pred=pipe.predict(X_val)\n",
    "print(f\"\\tVALIDATION ACCURACY:{accuracy_score(y_pred=y_pred,y_true=y_val)}\")"
   ]
  },
  {
   "cell_type": "code",
   "execution_count": 24,
   "metadata": {
    "colab": {
     "base_uri": "https://localhost:8080/",
     "height": 68
    },
    "colab_type": "code",
    "id": "X4_271ebB8kt",
    "outputId": "f657ce2e-e615-4be0-9bd3-aad5f48f2323"
   },
   "outputs": [
    {
     "name": "stdout",
     "output_type": "stream",
     "text": [
      "SGDClassifier:\n",
      "\tTRAIN ACCURACY:0.721878650450079\n",
      "\tVALIDATION ACCURACY:0.7237453904120571\n"
     ]
    }
   ],
   "source": [
    "y_pred=SGDClassifier_pipe.predict(X_train)\n",
    "print(f\"SGDClassifier:\\n\\tTRAIN ACCURACY:{accuracy_score(y_pred=y_pred,y_true=y_train)}\")\n",
    "y_pred=SGDClassifier_pipe.predict(X_val)\n",
    "print(f\"\\tVALIDATION ACCURACY:{accuracy_score(y_pred=y_pred,y_true=y_val)}\")"
   ]
  },
  {
   "cell_type": "code",
   "execution_count": 26,
   "metadata": {
    "colab": {
     "base_uri": "https://localhost:8080/",
     "height": 68
    },
    "colab_type": "code",
    "id": "r2Oe2zemE_Z7",
    "outputId": "bc7ed747-c70c-4adf-b775-cd8f11db9de8"
   },
   "outputs": [
    {
     "name": "stdout",
     "output_type": "stream",
     "text": [
      "SVC_pipe:\n",
      "\tTRAIN ACCURACY:0.7914175771318629\n",
      "\tVALIDATION ACCURACY:0.7725669392336059\n"
     ]
    }
   ],
   "source": [
    "y_pred=SVC_pipe.predict(X_train)\n",
    "print(f\"SVC_pipe:\\n\\tTRAIN ACCURACY:{accuracy_score(y_pred=y_pred,y_true=y_train)}\")\n",
    "y_pred=SVC_pipe.predict(X_val)\n",
    "print(f\"\\tVALIDATION ACCURACY:{accuracy_score(y_pred=y_pred,y_true=y_val)}\")"
   ]
  },
  {
   "cell_type": "code",
   "execution_count": 30,
   "metadata": {
    "colab": {
     "base_uri": "https://localhost:8080/",
     "height": 68
    },
    "colab_type": "code",
    "id": "4oc0EggvTDFu",
    "outputId": "40b76197-77b7-482c-ff5d-36481c398461"
   },
   "outputs": [
    {
     "name": "stdout",
     "output_type": "stream",
     "text": [
      "DecisionTreeClassifier_pipe:\n",
      "\tTRAIN ACCURACY:0.9965299251013536\n",
      "\tVALIDATION ACCURACY:0.7456309122975789\n"
     ]
    }
   ],
   "source": [
    "y_pred=DecisionTreeClassifier_pipe.predict(X_train)\n",
    "print(f\"DecisionTreeClassifier_pipe:\\n\\tTRAIN ACCURACY:{accuracy_score(y_pred=y_pred,y_true=y_train)}\")\n",
    "y_pred=DecisionTreeClassifier_pipe.predict(X_val)\n",
    "print(f\"\\tVALIDATION ACCURACY:{accuracy_score(y_pred=y_pred,y_true=y_val)}\")"
   ]
  },
  {
   "cell_type": "code",
   "execution_count": 32,
   "metadata": {
    "colab": {
     "base_uri": "https://localhost:8080/",
     "height": 68
    },
    "colab_type": "code",
    "id": "z7eo0OTKTZXM",
    "outputId": "d554838b-d6c5-4320-c0e9-5327d743abea"
   },
   "outputs": [
    {
     "name": "stdout",
     "output_type": "stream",
     "text": [
      "DecisionTreeClassifier_pipe:\n",
      "\tTRAIN ACCURACY:0.7983920841063699\n",
      "\tVALIDATION ACCURACY:0.7524450857784191\n"
     ]
    }
   ],
   "source": [
    "# min_samples_leaf=20\n",
    "y_pred=DecisionTreeClassifier_pipe.predict(X_train)\n",
    "print(f\"DecisionTreeClassifier_pipe:\\n\\tTRAIN ACCURACY:{accuracy_score(y_pred=y_pred,y_true=y_train)}\")\n",
    "y_pred=DecisionTreeClassifier_pipe.predict(X_val)\n",
    "print(f\"\\tVALIDATION ACCURACY:{accuracy_score(y_pred=y_pred,y_true=y_val)}\")"
   ]
  },
  {
   "cell_type": "code",
   "execution_count": 38,
   "metadata": {
    "colab": {
     "base_uri": "https://localhost:8080/",
     "height": 68
    },
    "colab_type": "code",
    "id": "w6RcGpG5Ttzp",
    "outputId": "dbd67bca-0c9e-4ee4-b60e-e84594ac66d1"
   },
   "outputs": [
    {
     "name": "stdout",
     "output_type": "stream",
     "text": [
      "DecisionTreeClassifier_pipe:\n",
      "\tTRAIN ACCURACY:0.8297258297258298\n",
      "\tVALIDATION ACCURACY:0.7594997594997595\n"
     ]
    }
   ],
   "source": [
    "# min_samples_split=10\n",
    "# min_samples_leaf=10\n",
    "y_pred=DecisionTreeClassifier_pipe.predict(X_train)\n",
    "print(f\"DecisionTreeClassifier_pipe:\\n\\tTRAIN ACCURACY:{accuracy_score(y_pred=y_pred,y_true=y_train)}\")\n",
    "y_pred=DecisionTreeClassifier_pipe.predict(X_val)\n",
    "print(f\"\\tVALIDATION ACCURACY:{accuracy_score(y_pred=y_pred,y_true=y_val)}\")"
   ]
  },
  {
   "cell_type": "code",
   "execution_count": 40,
   "metadata": {
    "colab": {
     "base_uri": "https://localhost:8080/",
     "height": 68
    },
    "colab_type": "code",
    "id": "C9y-iCBHUrO8",
    "outputId": "3265b2fb-491d-45fb-be09-4bb89f5e9c47"
   },
   "outputs": [
    {
     "name": "stdout",
     "output_type": "stream",
     "text": [
      "DecisionTreeClassifier_pipe:\n",
      "\tTRAIN ACCURACY:0.829863258434687\n",
      "\tVALIDATION ACCURACY:0.7625460958794292\n"
     ]
    }
   ],
   "source": [
    "# min_samples_split=10\n",
    "# min_samples_leaf=10\n",
    "y_pred=DecisionTreeClassifier_pipe.predict(X_train)\n",
    "print(f\"DecisionTreeClassifier_pipe:\\n\\tTRAIN ACCURACY:{accuracy_score(y_pred=y_pred,y_true=y_train)}\")\n",
    "y_pred=DecisionTreeClassifier_pipe.predict(X_val)\n",
    "print(f\"\\tVALIDATION ACCURACY:{accuracy_score(y_pred=y_pred,y_true=y_val)}\")"
   ]
  },
  {
   "cell_type": "markdown",
   "metadata": {},
   "source": [
    "## current model"
   ]
  },
  {
   "cell_type": "code",
   "execution_count": 20,
   "metadata": {
    "colab": {
     "base_uri": "https://localhost:8080/",
     "height": 68
    },
    "colab_type": "code",
    "id": "JhyF0u58dPGn",
    "outputId": "cedf9712-e9ce-4b3b-9518-e7985cf901b1"
   },
   "outputs": [
    {
     "name": "stdout",
     "output_type": "stream",
     "text": [
      "XGB_pipe:\n",
      "\tTRAIN ACCURACY:0.9383164983164983\n",
      "\tVALIDATION ACCURACY:0.8111784511784512\n"
     ]
    }
   ],
   "source": [
    "\n",
    "#              XGBClassifier(objective = 'multi:softmax', booster = 'gbtree', nrounds = 'min.error.idx', \n",
    "#                      num_class = 3, maximize = False, eval_metric = 'merror', eta = .1,\n",
    "#                      max_depth = 14, colsample_bytree = .4)\n",
    "\n",
    "y_pred=XGB_pipe.predict(X_train)\n",
    "print(f\"XGB_pipe:\\n\\tTRAIN ACCURACY:{accuracy_score(y_pred=y_pred,y_true=y_train)}\")\n",
    "y_pred=XGB_pipe.predict(X_val)\n",
    "print(f\"\\tVALIDATION ACCURACY:{accuracy_score(y_pred=y_pred,y_true=y_val)}\")"
   ]
  },
  {
   "cell_type": "markdown",
   "metadata": {},
   "source": [
    "## pickleing the fitted model for faster loading"
   ]
  },
  {
   "cell_type": "code",
   "execution_count": 62,
   "metadata": {
    "colab": {},
    "colab_type": "code",
    "id": "96iWEkXoGdWQ"
   },
   "outputs": [],
   "source": [
    "import pickle as salt\n",
    "from time import time"
   ]
  },
  {
   "cell_type": "code",
   "execution_count": 63,
   "metadata": {
    "colab": {},
    "colab_type": "code",
    "id": "TOn96JxoR9kz"
   },
   "outputs": [],
   "source": [
    "try:\n",
    "  file_f=open('searchcv_{}.pickle'.format(time()),'wb')  \n",
    "  salt.dump(search,file_f)\n",
    "except Exception as e:\n",
    "  print(e)\n",
    "finally:\n",
    "  file_f.close()\n"
   ]
  },
  {
   "cell_type": "markdown",
   "metadata": {},
   "source": [
    "### make a kaggle submission csv for ds-13-waterpumps"
   ]
  },
  {
   "cell_type": "code",
   "execution_count": 58,
   "metadata": {
    "colab": {},
    "colab_type": "code",
    "id": "c53_G7elgA35"
   },
   "outputs": [],
   "source": [
    "y_pred=model_pipe.predict(X_test)"
   ]
  },
  {
   "cell_type": "code",
   "execution_count": 60,
   "metadata": {
    "colab": {},
    "colab_type": "code",
    "id": "6h_G7t_so0Ki"
   },
   "outputs": [],
   "source": [
    "export=pd.DataFrame(index=test['id'],data=y_pred,columns=[target])\n",
    "export.reset_index(inplace=True)"
   ]
  },
  {
   "cell_type": "code",
   "execution_count": 61,
   "metadata": {
    "colab": {},
    "colab_type": "code",
    "id": "RGTgjgOTo1x_"
   },
   "outputs": [],
   "source": [
    "export.to_csv(\"submission_{}.csv\".format(time()),index=False)"
   ]
  },
  {
   "cell_type": "code",
   "execution_count": null,
   "metadata": {
    "colab": {},
    "colab_type": "code",
    "id": "9ERloCxBpu4b"
   },
   "outputs": [],
   "source": []
  }
 ],
 "metadata": {
  "colab": {
   "name": "LS_DS_221_assignment.ipynb",
   "provenance": []
  },
  "kernelspec": {
   "display_name": "DS-BASE(Python 3.7.0)",
   "language": "python",
   "name": "ds-base"
  },
  "language_info": {
   "codemirror_mode": {
    "name": "ipython",
    "version": 3
   },
   "file_extension": ".py",
   "mimetype": "text/x-python",
   "name": "python",
   "nbconvert_exporter": "python",
   "pygments_lexer": "ipython3",
   "version": "3.7.6"
  }
 },
 "nbformat": 4,
 "nbformat_minor": 4
}
